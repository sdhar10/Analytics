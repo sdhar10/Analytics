{
 "cells": [
  {
   "cell_type": "code",
   "execution_count": 1,
   "metadata": {},
   "outputs": [
    {
     "data": {
      "text/plain": [
       "['21.Indiana', '20.Illinois', '11.California', '7.Alabama']"
      ]
     },
     "execution_count": 1,
     "metadata": {},
     "output_type": "execute_result"
    }
   ],
   "source": [
    "import urllib.request\n",
    "Input_File = open('states.csv','r')\n",
    "Input_File = Input_File.read()   \n",
    "states_for_url = Input_File.splitlines(0)\n",
    "states_for_url"
   ]
  },
  {
   "cell_type": "code",
   "execution_count": null,
   "metadata": {},
   "outputs": [],
   "source": [
    "urls = []\n",
    "for state in states_for_url:\n",
    "    urls.append('https://download.bls.gov/pub/time.series/la/la.data.' + state)\n",
    "urls"
   ]
  },
  {
   "cell_type": "code",
   "execution_count": null,
   "metadata": {},
   "outputs": [],
   "source": [
    "state_names = []\n",
    "for state in states_for_url:\n",
    "    state_names.append(state[state.find('.')+1:])\n",
    "print(state_names)"
   ]
  },
  {
   "cell_type": "code",
   "execution_count": null,
   "metadata": {},
   "outputs": [],
   "source": [
    "New_Format_Data = ''\n",
    "\n",
    "Output_File = open('all_states.txt','w')\n",
    "\n",
    "for counter in range(0 , len(urls)):\n",
    "    print (urls[counter])\n",
    "    \n",
    "    Original_Data = urllib.request.urlopen(urls[counter]).read().decode('utf-8')\n",
    "    \n",
    "    rows = Original_Data.splitlines()\n",
    "    \n",
    "    if counter ==0:\n",
    "        rows[0] = rows[0].replace(\"footnote_codes\",\"\\tmonth_year\")\n",
    "        New_Format_Data =  rows[0]  + '\\n'\n",
    "        \n",
    "    for row in range(1, len(rows)):\n",
    "        values = rows[row].split()\n",
    "        if int(values[1]) >= 2015 and int(values[1]) <= 2020:\n",
    "            New_Format_Data += rows[row] + '\\t' + values[2][1:] + '_' + values[1] + '\\n'\n",
    "    \n",
    "Output_File.write(New_Format_Data)\n",
    "Output_File.close()"
   ]
  },
  {
   "cell_type": "code",
   "execution_count": null,
   "metadata": {},
   "outputs": [],
   "source": [
    "New_Format_Data = ''\n",
    "\n",
    "Output_File = open('all_states_2.txt','w')\n",
    "\n",
    "for counter in range(0 , len(urls)):\n",
    "    print (urls[counter])\n",
    "    \n",
    "    Original_Data = urllib.request.urlopen(urls[counter]).read().decode('utf-8')\n",
    "    \n",
    "    rows = Original_Data.splitlines()\n",
    "    \n",
    "    if counter ==0:\n",
    "        rows[0] = rows[0].replace(\"footnote_codes\",\"\\tState\")\n",
    "        New_Format_Data = rows[0] + '\\n'\n",
    "        \n",
    "    for row in range(1, len(rows)):\n",
    "        values = rows[row].split()\n",
    "        if int(values[1]) >= 2015 and int(values[1]) <= 2020 and values[2][1:]=='06':\n",
    "            New_Format_Data +=  rows[row] + '\\t' + state_names[counter] + '\\n'\n",
    "        \n",
    "Output_File.write(New_Format_Data)\n",
    "Output_File.close()"
   ]
  }
 ],
 "metadata": {
  "kernelspec": {
   "display_name": "Python 3",
   "language": "python",
   "name": "python3"
  },
  "language_info": {
   "codemirror_mode": {
    "name": "ipython",
    "version": 3
   },
   "file_extension": ".py",
   "mimetype": "text/x-python",
   "name": "python",
   "nbconvert_exporter": "python",
   "pygments_lexer": "ipython3",
   "version": "3.8.5"
  }
 },
 "nbformat": 4,
 "nbformat_minor": 4
}

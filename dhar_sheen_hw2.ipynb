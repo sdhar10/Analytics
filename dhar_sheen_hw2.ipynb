{
 "cells": [
  {
   "cell_type": "code",
   "execution_count": 1,
   "metadata": {},
   "outputs": [],
   "source": [
    "#Question1\n",
    "f = open(\"C:/Users/Sheen/Downloads/links_hw2.csv\",\"r\")\n",
    "links = f.readlines()\n",
    "f.close()"
   ]
  },
  {
   "cell_type": "code",
   "execution_count": 2,
   "metadata": {
    "scrolled": false
   },
   "outputs": [
    {
     "data": {
      "text/plain": [
       "['home\\n',\n",
       " 'home/faculty\\n',\n",
       " 'home/news\\n',\n",
       " 'home/it\\n',\n",
       " 'home/students\\n',\n",
       " 'home/faculty/kevin\\n',\n",
       " 'home/faculty/tony\\n',\n",
       " 'home/faculty/ron\\n',\n",
       " 'home/faculty/kevin/bio\\n',\n",
       " 'home/faculty/kevin/bio/education\\n',\n",
       " 'home/faculty/kevin/bio/education/undergraduate\\n',\n",
       " 'home/faculty/kevin/bio/education/graduate\\n',\n",
       " 'home/faculty/kevin/cv\\n',\n",
       " 'home/faculty/tony/cv\\n',\n",
       " 'home/faculty/ron/cv\\n',\n",
       " 'home/news/national\\n',\n",
       " 'home/news/local\\n',\n",
       " 'home/it/FAQ\\n',\n",
       " 'home/it/links\\n',\n",
       " 'home/students/current\\n',\n",
       " 'home/students/future\\n',\n",
       " 'home/students/future/dorms\\n',\n",
       " 'home/students/future/dorms/graduate\\n',\n",
       " 'home/students/future/dorms/undergraduate\\n',\n",
       " 'home/students/future/dorms/undergraduate/west\\n',\n",
       " 'home/students/future/dorms/undergraduate/east\\n',\n",
       " 'home/students/future/dorms/undergraduate/west/singlerooms\\n',\n",
       " 'home/students/future/dorms/undergraduate/west/doublerooms\\n']"
      ]
     },
     "execution_count": 2,
     "metadata": {},
     "output_type": "execute_result"
    }
   ],
   "source": [
    "links"
   ]
  },
  {
   "cell_type": "code",
   "execution_count": 3,
   "metadata": {},
   "outputs": [],
   "source": [
    "#get rid of the \"\\n\" at the end of each element\n",
    "for i in range(len(links)):\n",
    "    links[i]=links[i].strip()"
   ]
  },
  {
   "cell_type": "code",
   "execution_count": 4,
   "metadata": {},
   "outputs": [
    {
     "data": {
      "text/plain": [
       "['home',\n",
       " 'home/faculty',\n",
       " 'home/news',\n",
       " 'home/it',\n",
       " 'home/students',\n",
       " 'home/faculty/kevin',\n",
       " 'home/faculty/tony',\n",
       " 'home/faculty/ron',\n",
       " 'home/faculty/kevin/bio',\n",
       " 'home/faculty/kevin/bio/education',\n",
       " 'home/faculty/kevin/bio/education/undergraduate',\n",
       " 'home/faculty/kevin/bio/education/graduate',\n",
       " 'home/faculty/kevin/cv',\n",
       " 'home/faculty/tony/cv',\n",
       " 'home/faculty/ron/cv',\n",
       " 'home/news/national',\n",
       " 'home/news/local',\n",
       " 'home/it/FAQ',\n",
       " 'home/it/links',\n",
       " 'home/students/current',\n",
       " 'home/students/future',\n",
       " 'home/students/future/dorms',\n",
       " 'home/students/future/dorms/graduate',\n",
       " 'home/students/future/dorms/undergraduate',\n",
       " 'home/students/future/dorms/undergraduate/west',\n",
       " 'home/students/future/dorms/undergraduate/east',\n",
       " 'home/students/future/dorms/undergraduate/west/singlerooms',\n",
       " 'home/students/future/dorms/undergraduate/west/doublerooms']"
      ]
     },
     "execution_count": 4,
     "metadata": {},
     "output_type": "execute_result"
    }
   ],
   "source": [
    "links"
   ]
  },
  {
   "cell_type": "code",
   "execution_count": 5,
   "metadata": {},
   "outputs": [],
   "source": [
    "website_links = {}"
   ]
  },
  {
   "cell_type": "code",
   "execution_count": 6,
   "metadata": {},
   "outputs": [],
   "source": [
    "for link in links:  \n",
    "    sublink_list = link.split(\"/\")\n",
    "    sub_link_length = len(sublink_list) #gets the number levels in this link\n",
    "    \n",
    "    \n",
    "\n",
    "    for j in range(0,sub_link_length):\n",
    "        if j == 0:    \n",
    "            if not sublink_list[0] in website_links:\n",
    "                website_links[sublink_list[0]] = {} \n",
    "        elif j == 1:\n",
    "            #print(website_links[sublink_list[0]].keys())\n",
    "            if not sublink_list[1] in website_links[sublink_list[0]].keys():\n",
    "                #print(sublink_list[1], \"|\", website_links[sublink_list[0]].keys())\n",
    "                website_links[sublink_list[0]][sublink_list[1]] = {}\n",
    "        elif j == 2:\n",
    "            #print(website_links[sublink_list[0]][sublink_list[1]].keys())\n",
    "            if not sublink_list[2] in website_links[sublink_list[0]][sublink_list[1]].keys():\n",
    "                #print(sublink_list[2], \"|\", website_links[sublink_list[0]][sublink_list[1]].keys())\n",
    "                website_links[sublink_list[0]][sublink_list[1]][sublink_list[2]] = {}\n",
    "        elif j == 3:\n",
    "            if not sublink_list[3] in website_links[sublink_list[0]][sublink_list[1]][sublink_list[2]].keys():\n",
    "                website_links[sublink_list[0]][sublink_list[1]][sublink_list[2]][sublink_list[3]] = {}               \n",
    "        elif j == 4:\n",
    "            if not sublink_list[3] in website_links[sublink_list[0]][sublink_list[1]][sublink_list[2]][sublink_list[3]].keys():\n",
    "                website_links[sublink_list[0]][sublink_list[1]][sublink_list[2]][sublink_list[3]][sublink_list[4]] = {}\n",
    "        elif j == 5:\n",
    "            if not sublink_list[3] in website_links[sublink_list[0]][sublink_list[1]][sublink_list[2]][sublink_list[3]][sublink_list[4]].keys():\n",
    "                website_links[sublink_list[0]][sublink_list[1]][sublink_list[2]][sublink_list[3]][sublink_list[4]][sublink_list[5]] = {}\n",
    "        elif j == 6:\n",
    "            if not sublink_list[3] in website_links[sublink_list[0]][sublink_list[1]][sublink_list[2]][sublink_list[3]][sublink_list[4]][sublink_list[5]].keys():\n",
    "                website_links[sublink_list[0]][sublink_list[1]][sublink_list[2]][sublink_list[3]][sublink_list[4]][sublink_list[5]][sublink_list[6]] = {}"
   ]
  },
  {
   "cell_type": "code",
   "execution_count": 7,
   "metadata": {},
   "outputs": [
    {
     "data": {
      "text/plain": [
       "{'home': {'faculty': {'kevin': {'bio': {'education': {'graduate': {}}},\n",
       "    'cv': {}},\n",
       "   'tony': {'cv': {}},\n",
       "   'ron': {'cv': {}}},\n",
       "  'news': {'national': {}, 'local': {}},\n",
       "  'it': {'FAQ': {}, 'links': {}},\n",
       "  'students': {'current': {},\n",
       "   'future': {'dorms': {'graduate': {},\n",
       "     'undergraduate': {'west': {'doublerooms': {}}}}}}}}"
      ]
     },
     "execution_count": 7,
     "metadata": {},
     "output_type": "execute_result"
    }
   ],
   "source": [
    "website_links"
   ]
  },
  {
   "cell_type": "code",
   "execution_count": 8,
   "metadata": {},
   "outputs": [
    {
     "name": "stdout",
     "output_type": "stream",
     "text": [
      "Please enter the keyword you're trying to obtain the nested dictionary for: kevin\n",
      "\n",
      "The values of the nested dictionary for the term kevin are -\n",
      " {'bio': {'education': {'graduate': {}}}, 'cv': {}}\n",
      "\n",
      "And the path is - home/faculty/kevin/\n"
     ]
    }
   ],
   "source": [
    "def traverse_dict(key, d, l=[]):\n",
    "    if len(l)==0:\n",
    "        l.append(key)\n",
    "        \n",
    "    if key in d:\n",
    "        return l\n",
    "\n",
    "    for k, v in d.items():\n",
    "        if isinstance(v, dict):\n",
    "            result = traverse_dict(key, v)#recursive lookup\n",
    "\n",
    "            if result:\n",
    "                l.insert(0,k) #Add each nested key you go through\n",
    "                return l\n",
    "\n",
    "temp_dict = website_links\n",
    "search_key = str(input(\"Please enter the keyword you're trying to obtain the nested dictionary for: \"))\n",
    "keys_list = traverse_dict(search_key, temp_dict)\n",
    "\n",
    "for i in keys_list:\n",
    "    temp_dict = temp_dict[i]\n",
    "\n",
    "print(\"\\nThe values of the nested dictionary for the term\", search_key, \"are -\\n\", temp_dict) #You obtained all the nested values within\n",
    "print(\"\\nAnd the path is -\", \"/\".join(keys_list) + \"/\") #You obtain the path till that key"
   ]
  },
  {
   "cell_type": "code",
   "execution_count": 9,
   "metadata": {},
   "outputs": [],
   "source": [
    "#Question2 \n",
    "distance = [{u'distance': {u'text': u'248 mi', u'value': 398525},\n",
    "  u'duration': {u'text': u'3 hours 59 mins', u'value': 14346},\n",
    "  u'status': u'OK'},\n",
    " {u'distance': {u'text': u'2,306 mi', u'value': 3711303},\n",
    "  u'duration': {u'text': u'1 day 9 hours', u'value': 120030},\n",
    "  u'status': u'OK'}]\n"
   ]
  },
  {
   "cell_type": "code",
   "execution_count": 10,
   "metadata": {},
   "outputs": [
    {
     "data": {
      "text/plain": [
       "'248 mi'"
      ]
     },
     "execution_count": 10,
     "metadata": {},
     "output_type": "execute_result"
    }
   ],
   "source": [
    "xy  = distance[0]\n",
    "xz  = distance[1]\n",
    "\n",
    "xy['distance']['text']"
   ]
  },
  {
   "cell_type": "code",
   "execution_count": 11,
   "metadata": {},
   "outputs": [
    {
     "data": {
      "text/plain": [
       "'1 day 9 hours'"
      ]
     },
     "execution_count": 11,
     "metadata": {},
     "output_type": "execute_result"
    }
   ],
   "source": [
    "xz['duration']['text']"
   ]
  },
  {
   "cell_type": "code",
   "execution_count": 12,
   "metadata": {},
   "outputs": [
    {
     "data": {
      "text/plain": [
       "'OK'"
      ]
     },
     "execution_count": 12,
     "metadata": {},
     "output_type": "execute_result"
    }
   ],
   "source": [
    "xz['status']"
   ]
  },
  {
   "cell_type": "code",
   "execution_count": 13,
   "metadata": {},
   "outputs": [
    {
     "data": {
      "text/plain": [
       "'2,306 mi'"
      ]
     },
     "execution_count": 13,
     "metadata": {},
     "output_type": "execute_result"
    }
   ],
   "source": [
    "xz['distance']['text']"
   ]
  }
 ],
 "metadata": {
  "kernelspec": {
   "display_name": "Python 3",
   "language": "python",
   "name": "python3"
  },
  "language_info": {
   "codemirror_mode": {
    "name": "ipython",
    "version": 3
   },
   "file_extension": ".py",
   "mimetype": "text/x-python",
   "name": "python",
   "nbconvert_exporter": "python",
   "pygments_lexer": "ipython3",
   "version": "3.8.5"
  }
 },
 "nbformat": 4,
 "nbformat_minor": 4
}
